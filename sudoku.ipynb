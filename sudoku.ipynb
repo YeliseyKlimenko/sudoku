{
 "cells": [
  {
   "cell_type": "code",
   "execution_count": 1,
   "id": "311eee72",
   "metadata": {},
   "outputs": [],
   "source": [
    "import numpy as np\n",
    "import json\n",
    "import matplotlib.pyplot as plt\n",
    "import doctest"
   ]
  },
  {
   "cell_type": "markdown",
   "id": "8454dfef",
   "metadata": {},
   "source": [
    "### Import initial tables"
   ]
  },
  {
   "cell_type": "code",
   "execution_count": 2,
   "id": "5bc88027",
   "metadata": {},
   "outputs": [],
   "source": [
    "file_name1='D:/ASD/rocks/sudoku_01.json'\n",
    "file_name2='D:/ASD/rocks/sudoku_02.json'\n",
    "\n",
    "with open(file_name1, 'r') as jsonfile:\n",
    "    sudoku1 = json.load(jsonfile)\n",
    "    \n",
    "with open(file_name2, 'r') as jsonfile:\n",
    "    sudoku2 = json.load(jsonfile)"
   ]
  },
  {
   "cell_type": "markdown",
   "id": "d42f84f2",
   "metadata": {},
   "source": [
    "### Plot initial tables"
   ]
  },
  {
   "cell_type": "code",
   "execution_count": 3,
   "id": "d2a15662",
   "metadata": {},
   "outputs": [],
   "source": [
    "def sudoku_plot(M):\n",
    "    fig, ax = plt.subplots()\n",
    "    im = ax.imshow(M, cmap='Blues', vmin=0, vmax=0, interpolation='none')\n",
    "    plt.axis('off')\n",
    "    for i in range(len(M)):\n",
    "        for j in range(len(M[0])):\n",
    "            if (M[i][j]==0):\n",
    "                text = ax.text(i, j, M[i][j], ha=\"center\", va=\"center\", color=\"black\")\n",
    "            else:\n",
    "                text = ax.text(i, j, M[i][j], ha=\"center\", va=\"center\", color=\"red\")"
   ]
  },
  {
   "cell_type": "code",
   "execution_count": 4,
   "id": "0c876e25",
   "metadata": {},
   "outputs": [
    {
     "data": {
      "image/png": "[encoded data removed]",
      "text/plain": [
       "<Figure size 432x288 with 1 Axes>"
      ]
     },
     "metadata": {
      "needs_background": "light"
     },
     "output_type": "display_data"
    }
   ],
   "source": [
    "sudoku_plot(sudoku1)"
   ]
  },
  {
   "cell_type": "code",
   "execution_count": 5,
   "id": "1b28ea86",
   "metadata": {
    "scrolled": false
   },
   "outputs": [
    {
     "data": {
      "image/png": "[encoded data removed]",
      "text/plain": [
       "<Figure size 432x288 with 1 Axes>"
      ]
     },
     "metadata": {
      "needs_background": "light"
     },
     "output_type": "display_data"
    }
   ],
   "source": [
    "sudoku_plot(sudoku2)"
   ]
  },
  {
   "cell_type": "markdown",
   "id": "97f22ba9",
   "metadata": {},
   "source": [
    "### Dependencies"
   ]
  },
  {
   "cell_type": "code",
   "execution_count": 1,
   "id": "55a97d3f",
   "metadata": {},
   "outputs": [],
   "source": [
    "class Square:  #class that represents each square in a soduku table\n",
    "    def __init__(self,K):\n",
    "        if K==0:\n",
    "            self.K = [1,2,3,4,5,6,7,8,9] #labels\n",
    "        else:\n",
    "            self.K = [K]\n",
    "        self.N = [] #neighbors\n",
    "        self.L = [] #links\n",
    "    \n",
    "    def is_paired(self,k1,S2):  #function that tests whether 2 squares have a pair of linked labels\n",
    "        for link in self.L:\n",
    "            if link.S[1] == S2 and link.K[0] == k1:\n",
    "                return True\n",
    "        return False\n",
    "        \n",
    "\n",
    "class Link:  #class that represents each link(arc) between neighboring squares and their states\n",
    "    def __init__(self,S1,S2,K1,K2):\n",
    "        self.S = [S1, S2] #neighbor pair\n",
    "        self.K = [K1, K2] #label pair"
   ]
  },
  {
   "cell_type": "code",
   "execution_count": 2,
   "id": "631bb564",
   "metadata": {},
   "outputs": [],
   "source": [
    "def Mto_class(M): #function that takes the sudoku table (9x9 list) as an input and converts it into a 9x9 matrix of 'square' type objects\n",
    "    A = []  \n",
    "    l = range(len(M))\n",
    "    for i in l:\n",
    "        Al = []\n",
    "        for j in l:\n",
    "            Al.append(Square(M[i][j]))\n",
    "        A.append(Al)\n",
    "    for i in l:\n",
    "        for j in l:\n",
    "            N = []\n",
    "            for k in l:\n",
    "                if k!=j:\n",
    "                    N.append(A[i][k])\n",
    "            for k in l:\n",
    "                if (k!=i):\n",
    "                    N.append(A[k][j])\n",
    "            if [0,3,6].count(i)!=0:\n",
    "                if [0,3,6].count(j)!=0:\n",
    "                    N.extend(A[i+1][j+1:j+3])\n",
    "                    N.extend(A[i+2][j+1:j+3])\n",
    "                elif [1,4,7].count(j)!=0:\n",
    "                    N.append(A[i+1][j-1])\n",
    "                    N.append(A[i+1][j+1])\n",
    "                    N.append(A[i+2][j-1])\n",
    "                    N.append(A[i+2][j+1])\n",
    "                else:\n",
    "                    N.extend(A[i+1][j-2:j])\n",
    "                    N.extend(A[i+2][j-2:j])\n",
    "            elif [1,4,7].count(i)!=0:\n",
    "                if [0,3,6].count(j)!=0:\n",
    "                    N.extend(A[i-1][j+1:j+3])\n",
    "                    N.extend(A[i+1][j+1:j+3])\n",
    "                elif [1,4,7].count(j)!=0:\n",
    "                    N.append(A[i-1][j-1])\n",
    "                    N.append(A[i-1][j+1])\n",
    "                    N.append(A[i+1][j-1])\n",
    "                    N.append(A[i+1][j+1])\n",
    "                else:\n",
    "                    N.extend(A[i-1][j-2:j])\n",
    "                    N.extend(A[i+1][j-2:j])\n",
    "            else:\n",
    "                if [0,3,6].count(j)!=0:\n",
    "                    N.extend(A[i-1][j+1:j+3])\n",
    "                    N.extend(A[i-2][j+1:j+3])\n",
    "                elif [1,4,7].count(j)!=0:\n",
    "                    N.append(A[i-1][j-1]) \n",
    "                    N.append(A[i-1][j+1]) \n",
    "                    N.append(A[i-2][j-1])\n",
    "                    N.append(A[i-2][j+1])\n",
    "                else:\n",
    "                    N.extend(A[i-1][j-2:j])\n",
    "                    N.extend(A[i-2][j-2:j])\n",
    "            A[i][j].N.extend(N)\n",
    "    return A"
   ]
  },
  {
   "cell_type": "code",
   "execution_count": null,
   "id": "1cb48f11",
   "metadata": {},
   "outputs": [],
   "source": []
  }
 ],
 "metadata": {
  "kernelspec": {
   "display_name": "Python 3 (ipykernel)",
   "language": "python",
   "name": "python3"
  },
  "language_info": {
   "codemirror_mode": {
    "name": "ipython",
    "version": 3
   },
   "file_extension": ".py",
   "mimetype": "text/x-python",
   "name": "python",
   "nbconvert_exporter": "python",
   "pygments_lexer": "ipython3",
   "version": "3.9.7"
  }
 },
 "nbformat": 4,
 "nbformat_minor": 5
}
