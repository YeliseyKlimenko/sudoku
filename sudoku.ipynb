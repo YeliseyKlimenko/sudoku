{
 "cells": [
  {
   "cell_type": "code",
   "execution_count": null,
   "id": "311eee72",
   "metadata": {},
   "outputs": [],
   "source": [
    "import numpy as np\n",
    "import json\n",
    "import matplotlib.pyplot as plt\n",
    "import doctest\n",
    "\n",
    "file_name1='D:/ASD/rocks/sudoku_01.json'\n",
    "file_name2='D:/ASD/rocks/sudoku_02.json'\n",
    "\n",
    "with open(file_name1, 'r') as jsonfile:\n",
    "    sudoku1 = json.load(jsonfile)\n",
    "    \n",
    "with open(file_name2, 'r') as jsonfile:\n",
    "    sudoku2 = json.load(jsonfile)"
   ]
  }
 ],
 "metadata": {
  "kernelspec": {
   "display_name": "Python 3 (ipykernel)",
   "language": "python",
   "name": "python3"
  },
  "language_info": {
   "codemirror_mode": {
    "name": "ipython",
    "version": 3
   },
   "file_extension": ".py",
   "mimetype": "text/x-python",
   "name": "python",
   "nbconvert_exporter": "python",
   "pygments_lexer": "ipython3",
   "version": "3.9.2"
  }
 },
 "nbformat": 4,
 "nbformat_minor": 5
}
